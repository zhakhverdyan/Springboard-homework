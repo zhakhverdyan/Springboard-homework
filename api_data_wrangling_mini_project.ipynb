{
 "cells": [
  {
   "cell_type": "markdown",
   "metadata": {},
   "source": [
    "This exercise will require you to pull some data from the Qunadl API. Qaundl is currently the most widely used aggregator of financial market data."
   ]
  },
  {
   "cell_type": "markdown",
   "metadata": {},
   "source": [
    "As a first step, you will need to register a free account on the http://www.quandl.com website."
   ]
  },
  {
   "cell_type": "markdown",
   "metadata": {},
   "source": [
    "After you register, you will be provided with a unique API key, that you should store:"
   ]
  },
  {
   "cell_type": "code",
   "execution_count": 95,
   "metadata": {},
   "outputs": [],
   "source": [
    "# Store the API key as a string - according to PEP8, constants are always named in all upper case\n",
    "API_KEY = ''"
   ]
  },
  {
   "cell_type": "markdown",
   "metadata": {},
   "source": [
    "Qaundl has a large number of data sources, but, unfortunately, most of them require a Premium subscription. Still, there are also a good number of free datasets."
   ]
  },
  {
   "cell_type": "markdown",
   "metadata": {},
   "source": [
    "For this mini project, we will focus on equities data from the Frankfurt Stock Exhange (FSE), which is available for free. We'll try and analyze the stock prices of a company called Carl Zeiss Meditec, which manufactures tools for eye examinations, as well as medical lasers for laser eye surgery: https://www.zeiss.com/meditec/int/home.html. The company is listed under the stock ticker AFX_X."
   ]
  },
  {
   "cell_type": "markdown",
   "metadata": {},
   "source": [
    "You can find the detailed Quandl API instructions here: https://docs.quandl.com/docs/time-series"
   ]
  },
  {
   "cell_type": "markdown",
   "metadata": {},
   "source": [
    "While there is a dedicated Python package for connecting to the Quandl API, we would prefer that you use the *requests* package, which can be easily downloaded using *pip* or *conda*. You can find the documentation for the package here: http://docs.python-requests.org/en/master/ "
   ]
  },
  {
   "cell_type": "markdown",
   "metadata": {},
   "source": [
    "Finally, apart from the *requests* package, you are encouraged to not use any third party Python packages, such as *pandas*, and instead focus on what's available in the Python Standard Library (the *collections* module might come in handy: https://pymotw.com/3/collections/ ).\n",
    "Also, since you won't have access to DataFrames, you are encouraged to us Python's native data structures - preferably dictionaries, though some questions can also be answered using lists.\n",
    "You can read more on these data structures here: https://docs.python.org/3/tutorial/datastructures.html"
   ]
  },
  {
   "cell_type": "markdown",
   "metadata": {},
   "source": [
    "Keep in mind that the JSON responses you will be getting from the API map almost one-to-one to Python's dictionaries. Unfortunately, they can be very nested, so make sure you read up on indexing dictionaries in the documentation provided above."
   ]
  },
  {
   "cell_type": "code",
   "execution_count": 96,
   "metadata": {},
   "outputs": [],
   "source": [
    "# First, import the relevant modules\n",
    "import requests\n",
    "import json\n",
    "import numpy as np"
   ]
  },
  {
   "cell_type": "code",
   "execution_count": 104,
   "metadata": {},
   "outputs": [
    {
     "name": "stdout",
     "output_type": "stream",
     "text": [
      "b'{\"dataset_data\":{\"limit\":null,\"transform\":null,\"column_index\":null,\"column_names\":[\"Date\",\"Open\",\"High\",\"Low\",\"Close\",\"Change\",\"Traded Volume\",\"Turnover\",\"Last Price of the Day\",\"Daily Traded Units\",\"Daily Turnover\"],\"start_date\":\"2019-11-07\",\"end_date\":\"2019-11-07\",\"frequency\":\"daily\",\"data\":[[\"2019-11-07\",103.7,104.1,101.2,102.2,null,145112.0,14855882.0,null,null,null]],\"collapse\":null,\"order\":null}}'\n"
     ]
    }
   ],
   "source": [
    "# Now, call the Quandl API and pull out a small sample of the data (only one day) to get a glimpse\n",
    "# into the JSON structure that will be returned\n",
    "r = requests.get('https://www.quandl.com/api/v3/datasets/FSE/AFX_X/data.json?start_date=2019-11-07&end_date=2019-11-07&api_key='+API_KEY)\n",
    "# 'get' is the request method used to retreive the data\n",
    "# 'https://www.quandl.com/api/v3/datasets/FSE/AFX_X.' portion is the URL for the request\n",
    "# 'JSON','start_date=2019-11-07&end_date=2019-11-07' are parameters for the format of data retreival and filtering the output\n",
    "# api_key=API_KEY is the API key with which the user is granted access to the data\n",
    "print(r.content)"
   ]
  },
  {
   "cell_type": "code",
   "execution_count": null,
   "metadata": {
    "collapsed": true
   },
   "outputs": [],
   "source": [
    "# Inspect the JSON structure of the object you created, and take note of how nested it is,\n",
    "# as well as the overall structure\n"
   ]
  },
  {
   "cell_type": "markdown",
   "metadata": {},
   "source": [
    "These are your tasks for this mini project:\n",
    "\n",
    "1. Collect data from the Franfurt Stock Exchange, for the ticker AFX_X, for the whole year 2017 (keep in mind that the date format is YYYY-MM-DD).\n",
    "2. Convert the returned JSON object into a Python dictionary.\n",
    "3. Calculate what the highest and lowest opening prices were for the stock in this period.\n",
    "4. What was the largest change in any one day (based on High and Low price)?\n",
    "5. What was the largest change between any two days (based on Closing Price)?\n",
    "6. What was the average daily trading volume during this year?\n",
    "7. (Optional) What was the median trading volume during this year. (Note: you may need to implement your own function for calculating the median.)"
   ]
  },
  {
   "cell_type": "code",
   "execution_count": 105,
   "metadata": {},
   "outputs": [],
   "source": [
    "# 1. Collect data from the Franfurt Stock Exchange, for the ticker AFX_X, for the whole year 2017 \n",
    "#(keep in mind that the date format is YYYY-MM-DD).\n",
    "r = requests.get('https://www.quandl.com/api/v3/datasets/FSE/AFX_X/data.json?start_date=2017-01-01&end_date=2017-12-31&api_key='+API_KEY)"
   ]
  },
  {
   "cell_type": "code",
   "execution_count": 107,
   "metadata": {},
   "outputs": [],
   "source": [
    "#2. Convert the returned JSON object into a Python dictionary.\n",
    "stock_info_python_dictionary = json.loads(r.content)\n",
    "# loads method decodes the json object into a python dictionary"
   ]
  },
  {
   "cell_type": "code",
   "execution_count": 115,
   "metadata": {},
   "outputs": [],
   "source": [
    "# next get the relevant column names and extract the values into a list data\n",
    "column_names=stock_info_python_dictionary['dataset_data']['column_names']\n",
    "data = stock_info_python_dictionary['dataset_data']['data']\n",
    "# define a function for extracting the indices of relevant columns\n",
    "def get_index(string):\n",
    "    index=column_names.index(string)\n",
    "    return index"
   ]
  },
  {
   "cell_type": "code",
   "execution_count": 118,
   "metadata": {},
   "outputs": [
    {
     "name": "stdout",
     "output_type": "stream",
     "text": [
      "The highest opening price was 53.11\n",
      "The lowest opening price was 34.0\n"
     ]
    }
   ],
   "source": [
    "#3. Calculate what the highest and lowest opening prices were for the stock in this period.\n",
    "# use list comprehension to put all the opening price values into a new list open_prices, filter out non-float elements\n",
    "open_prices = [row[get_index('Open')] for row in data if type(row[get_index('Open')])==float]\n",
    "print('The highest opening price was '+str(max(open_prices)))\n",
    "print('The lowest opening price was '+str(min(open_prices)))"
   ]
  },
  {
   "cell_type": "code",
   "execution_count": 117,
   "metadata": {},
   "outputs": [
    {
     "name": "stdout",
     "output_type": "stream",
     "text": [
      "The largest price change in a day was 2.8100000000000023\n"
     ]
    }
   ],
   "source": [
    "#4. What was the largest change in any one day (based on High and Low price)?\n",
    "# use list comprehension to make a list of daily changes (the differnce of daily high and low prices)\n",
    "daily_changes = [row[get_index('High')]-row[get_index('Low')] for row in data]\n",
    "print('The largest price change in a day was '+str(max(daily_changes)))"
   ]
  },
  {
   "cell_type": "code",
   "execution_count": 119,
   "metadata": {},
   "outputs": [
    {
     "name": "stdout",
     "output_type": "stream",
     "text": [
      "The largest price change between any two days was 1.7199999999999989\n"
     ]
    }
   ],
   "source": [
    "#5. What was the largest change between any two days (based on Closing Price)?\n",
    "# extract the values of closing prices into a list\n",
    "close_prices = [row[get_index('Close')] for row in data if type(row[get_index('Close')])==float]\n",
    "# copy the closing_prices list into a new list, remove the first element and add a dummy value at the end \n",
    "# to keep the length of the list constant. Effectively the two lists are now out of register by one element. Taking\n",
    "# the difference of the two lists creates another list, where each element is the change of closing price between \n",
    "# two consecutive days. The last element, the difference between closing price of the last day and the dummy value\n",
    "# does not represent a price change and is discarded before calculating the maximal change.\n",
    "close_prices_shifted = close_prices[1:]\n",
    "close_prices_shifted.append(0.0)\n",
    "delta_2day=np.array(close_prices)-np.array(close_prices_shifted)\n",
    "delta_2day=delta_2day[:-1]\n",
    "print('The largest price change between any two days was ' + str(max(delta_2day)))"
   ]
  },
  {
   "cell_type": "code",
   "execution_count": 120,
   "metadata": {},
   "outputs": [
    {
     "name": "stdout",
     "output_type": "stream",
     "text": [
      "The average daily trading volume was 89124.33725490196\n"
     ]
    }
   ],
   "source": [
    "#6. What was the average daily trading volume during this year?\n",
    "# extract all the traded volume values into a list\n",
    "trading_volumes = [row[get_index('Traded Volume')] for row in data]\n",
    "print('The average daily trading volume was '+str(sum(trading_volumes)/len(trading_volumes)))"
   ]
  },
  {
   "cell_type": "code",
   "execution_count": 121,
   "metadata": {},
   "outputs": [
    {
     "name": "stdout",
     "output_type": "stream",
     "text": [
      "The median trading volume was 76600.0\n"
     ]
    }
   ],
   "source": [
    "#7. (Optional) What was the median trading volume during this year. (Note: you may need to implement your own \n",
    "#function for calculating the median.)\n",
    "# define a function for calculating the median value; if the list has an odd number of elements (modulo 2 is 1)\n",
    "# then the median is the middle element. If the number of elements is even, then median is the average of two \n",
    "# middle values. Before performining any calculations the list has to be sorted in ascending order. \n",
    "def median_calc(list_vals):\n",
    "    list_vals.sort()\n",
    "    if len(list_vals)%2 == 1:\n",
    "        med_index = int((len(list_vals)-1)/2 + 1)\n",
    "        median = list_vals[med_index]\n",
    "    else:\n",
    "        med_index=len(list_vals)/2\n",
    "        median = (list_vals[med_index]+list_vals[med_index+1])/2 \n",
    "    return median\n",
    "    \n",
    "print('The median trading volume was '+ str(median_calc(trading_volumes)))"
   ]
  },
  {
   "cell_type": "code",
   "execution_count": null,
   "metadata": {},
   "outputs": [],
   "source": []
  }
 ],
 "metadata": {
  "kernelspec": {
   "display_name": "Python 3",
   "language": "python",
   "name": "python3"
  },
  "language_info": {
   "codemirror_mode": {
    "name": "ipython",
    "version": 3
   },
   "file_extension": ".py",
   "mimetype": "text/x-python",
   "name": "python",
   "nbconvert_exporter": "python",
   "pygments_lexer": "ipython3",
   "version": "3.7.3"
  }
 },
 "nbformat": 4,
 "nbformat_minor": 2
}
